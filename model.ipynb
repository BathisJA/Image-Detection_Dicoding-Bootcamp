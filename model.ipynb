{
 "cells": [
  {
   "cell_type": "code",
   "execution_count": 1,
   "metadata": {},
   "outputs": [
    {
     "name": "stdout",
     "output_type": "stream",
     "text": [
      "WARNING:tensorflow:From d:\\Project\\Python\\Image-Detection_Dicoding-Bootcamp\\envbinar\\Lib\\site-packages\\keras\\src\\losses.py:2976: The name tf.losses.sparse_softmax_cross_entropy is deprecated. Please use tf.compat.v1.losses.sparse_softmax_cross_entropy instead.\n",
      "\n"
     ]
    }
   ],
   "source": [
    "import os\n",
    "import shutil\n",
    "from tensorflow.keras.preprocessing.image import ImageDataGenerator\n",
    "from keras.models import Sequential\n",
    "from keras.layers import Conv2D, MaxPooling2D, Flatten, Dense\n",
    "from keras.optimizers import Adam\n"
   ]
  },
  {
   "cell_type": "code",
   "execution_count": 2,
   "metadata": {},
   "outputs": [
    {
     "name": "stdout",
     "output_type": "stream",
     "text": [
      "['paper', 'rock', 'scissors']\n"
     ]
    }
   ],
   "source": [
    "# Base directory where train and val folders are located\n",
    "base_dir = 'D:/Project/Python/Image-Detection_Dicoding-Bootcamp/Dataset/rockpaperscissors'\n",
    "\n",
    "# Path to store train and validation data\n",
    "train_path = os.path.join(base_dir, 'train')\n",
    "val_path = os.path.join(base_dir, 'val')\n",
    "\n",
    "# Validation folder\n",
    "validation_folder = os.path.join(base_dir, 'val')\n",
    "\n",
    "# List files in the validation folder\n",
    "files = os.listdir(validation_folder)\n",
    "print(files)"
   ]
  },
  {
   "cell_type": "code",
   "execution_count": 3,
   "metadata": {},
   "outputs": [],
   "source": [
    "# Set up image data generator for training with validation split\n",
    "train_data_img_gen = ImageDataGenerator(\n",
    "    rescale=1./255,\n",
    "    shear_range=0.2,\n",
    "    zoom_range=0.2,\n",
    "    rotation_range=0.2,\n",
    "    horizontal_flip=True,\n",
    "    validation_split=0.4\n",
    ")\n",
    "\n",
    "# Set up image data generator for validation\n",
    "val_data_img_gen = ImageDataGenerator(\n",
    "    rescale=1./255,\n",
    "    validation_split=0.4\n",
    ")\n"
   ]
  },
  {
   "cell_type": "code",
   "execution_count": 4,
   "metadata": {},
   "outputs": [
    {
     "name": "stdout",
     "output_type": "stream",
     "text": [
      "Found 1314 images belonging to 3 classes.\n",
      "Found 874 images belonging to 3 classes.\n"
     ]
    }
   ],
   "source": [
    "# Create train generator\n",
    "train_generator = train_data_img_gen.flow_from_directory(\n",
    "    train_path,  # Path ke folder train\n",
    "    target_size=(150, 150),\n",
    "    batch_size=32,\n",
    "    class_mode='categorical',\n",
    "    subset='training'\n",
    ")\n",
    "\n",
    "# Create validation generator\n",
    "val_generator = val_data_img_gen.flow_from_directory(\n",
    "    val_path,  # Path ke folder val\n",
    "    target_size=(150, 150),\n",
    "    batch_size=32,\n",
    "    class_mode='categorical',\n",
    "    subset='validation',\n",
    "    shuffle=False\n",
    ")\n"
   ]
  },
  {
   "cell_type": "code",
   "execution_count": 5,
   "metadata": {},
   "outputs": [
    {
     "name": "stdout",
     "output_type": "stream",
     "text": [
      "WARNING:tensorflow:From d:\\Project\\Python\\Image-Detection_Dicoding-Bootcamp\\envbinar\\Lib\\site-packages\\keras\\src\\backend.py:873: The name tf.get_default_graph is deprecated. Please use tf.compat.v1.get_default_graph instead.\n",
      "\n",
      "WARNING:tensorflow:From d:\\Project\\Python\\Image-Detection_Dicoding-Bootcamp\\envbinar\\Lib\\site-packages\\keras\\src\\layers\\pooling\\max_pooling2d.py:161: The name tf.nn.max_pool is deprecated. Please use tf.nn.max_pool2d instead.\n",
      "\n"
     ]
    }
   ],
   "source": [
    "# Create model\n",
    "model = Sequential()\n",
    "model.add(Conv2D(32, (3, 3), activation='relu', input_shape=(150, 150, 3)))\n",
    "model.add(MaxPooling2D(2, 2))\n",
    "model.add(Conv2D(64, (3, 3), activation='relu'))\n",
    "model.add(MaxPooling2D(2, 2))\n",
    "model.add(Conv2D(64, (3, 3), activation='relu'))\n",
    "model.add(MaxPooling2D(2, 2))\n",
    "model.add(Conv2D(64, (3, 3), activation='relu'))\n",
    "model.add(MaxPooling2D(2, 2))\n",
    "model.add(Flatten())\n",
    "model.add(Dense(128, activation='relu'))\n",
    "model.add(Dense(3, activation='softmax'))"
   ]
  },
  {
   "cell_type": "code",
   "execution_count": 6,
   "metadata": {},
   "outputs": [],
   "source": [
    "model.compile(\n",
    "    loss='categorical_crossentropy',\n",
    "    optimizer=Adam(learning_rate=0.001),\n",
    "    metrics=['accuracy']\n",
    ")"
   ]
  },
  {
   "cell_type": "code",
   "execution_count": 9,
   "metadata": {},
   "outputs": [
    {
     "name": "stdout",
     "output_type": "stream",
     "text": [
      "Epoch 1/19\n",
      "25/25 [==============================] - 9s 341ms/step - loss: 0.0432 - accuracy: 0.9850 - val_loss: 0.1698 - val_accuracy: 0.9688\n",
      "Epoch 2/19\n",
      "25/25 [==============================] - 9s 361ms/step - loss: 0.0369 - accuracy: 0.9850 - val_loss: 0.1128 - val_accuracy: 0.9625\n",
      "Epoch 3/19\n",
      "25/25 [==============================] - 9s 371ms/step - loss: 0.0253 - accuracy: 0.9909 - val_loss: 0.0892 - val_accuracy: 0.9688\n",
      "Epoch 4/19\n",
      "25/25 [==============================] - 9s 377ms/step - loss: 0.0478 - accuracy: 0.9825 - val_loss: 0.1751 - val_accuracy: 0.9438\n",
      "Epoch 5/19\n",
      "25/25 [==============================] - 9s 347ms/step - loss: 0.0364 - accuracy: 0.9875 - val_loss: 0.2062 - val_accuracy: 0.9438\n",
      "Epoch 6/19\n",
      "25/25 [==============================] - 9s 341ms/step - loss: 0.0431 - accuracy: 0.9857 - val_loss: 0.3624 - val_accuracy: 0.9375\n",
      "Epoch 7/19\n",
      "25/25 [==============================] - 10s 384ms/step - loss: 0.0528 - accuracy: 0.9812 - val_loss: 0.2498 - val_accuracy: 0.9563\n",
      "Epoch 8/19\n",
      "25/25 [==============================] - 9s 360ms/step - loss: 0.0443 - accuracy: 0.9870 - val_loss: 0.1686 - val_accuracy: 0.9625\n",
      "Epoch 9/19\n",
      "25/25 [==============================] - 9s 354ms/step - loss: 0.0302 - accuracy: 0.9875 - val_loss: 0.1831 - val_accuracy: 0.9563\n",
      "Epoch 10/19\n",
      "25/25 [==============================] - 8s 316ms/step - loss: 0.0236 - accuracy: 0.9948 - val_loss: 0.2351 - val_accuracy: 0.9500\n",
      "Epoch 11/19\n",
      "25/25 [==============================] - 8s 307ms/step - loss: 0.0305 - accuracy: 0.9935 - val_loss: 0.2855 - val_accuracy: 0.9312\n",
      "Epoch 12/19\n",
      "25/25 [==============================] - 8s 315ms/step - loss: 0.0454 - accuracy: 0.9844 - val_loss: 0.2615 - val_accuracy: 0.9500\n",
      "Epoch 13/19\n",
      "25/25 [==============================] - 8s 301ms/step - loss: 0.0392 - accuracy: 0.9870 - val_loss: 0.2212 - val_accuracy: 0.9500\n",
      "Epoch 14/19\n",
      "25/25 [==============================] - 8s 334ms/step - loss: 0.0292 - accuracy: 0.9948 - val_loss: 0.0801 - val_accuracy: 0.9625\n",
      "Epoch 15/19\n",
      "25/25 [==============================] - 8s 307ms/step - loss: 0.0289 - accuracy: 0.9883 - val_loss: 0.2371 - val_accuracy: 0.9375\n",
      "Epoch 16/19\n",
      "25/25 [==============================] - 8s 315ms/step - loss: 0.0371 - accuracy: 0.9850 - val_loss: 0.2805 - val_accuracy: 0.9250\n",
      "Epoch 17/19\n",
      "25/25 [==============================] - 8s 323ms/step - loss: 0.0313 - accuracy: 0.9912 - val_loss: 0.1140 - val_accuracy: 0.9688\n",
      "Epoch 18/19\n",
      "25/25 [==============================] - 9s 343ms/step - loss: 0.0175 - accuracy: 0.9935 - val_loss: 0.0222 - val_accuracy: 0.9875\n",
      "Epoch 19/19\n",
      "25/25 [==============================] - 9s 365ms/step - loss: 0.0180 - accuracy: 0.9961 - val_loss: 0.2376 - val_accuracy: 0.9438\n"
     ]
    }
   ],
   "source": [
    "# Train the model\n",
    "history = model.fit(\n",
    "    train_generator,\n",
    "    steps_per_epoch=25,\n",
    "    epochs=19,\n",
    "    validation_data=val_generator,\n",
    "    validation_steps=5,\n",
    ")"
   ]
  },
  {
   "cell_type": "code",
   "execution_count": 10,
   "metadata": {},
   "outputs": [
    {
     "name": "stdout",
     "output_type": "stream",
     "text": [
      "Model accuracy: 99.61%\n"
     ]
    }
   ],
   "source": [
    "accuracy = history.history['accuracy'][-1]\n",
    "print(f\"Model accuracy: {accuracy * 100:.2f}%\")"
   ]
  },
  {
   "cell_type": "code",
   "execution_count": 11,
   "metadata": {},
   "outputs": [
    {
     "name": "stderr",
     "output_type": "stream",
     "text": [
      "d:\\Project\\Python\\Image-Detection_Dicoding-Bootcamp\\envbinar\\Lib\\site-packages\\keras\\src\\engine\\training.py:3103: UserWarning: You are saving your model as an HDF5 file via `model.save()`. This file format is considered legacy. We recommend using instead the native Keras format, e.g. `model.save('my_model.keras')`.\n",
      "  saving_api.save_model(\n"
     ]
    }
   ],
   "source": [
    "# Save model\n",
    "model.save('model.h5')"
   ]
  }
 ],
 "metadata": {
  "kernelspec": {
   "display_name": "envbinar",
   "language": "python",
   "name": "python3"
  },
  "language_info": {
   "codemirror_mode": {
    "name": "ipython",
    "version": 3
   },
   "file_extension": ".py",
   "mimetype": "text/x-python",
   "name": "python",
   "nbconvert_exporter": "python",
   "pygments_lexer": "ipython3",
   "version": "3.11.6"
  }
 },
 "nbformat": 4,
 "nbformat_minor": 2
}
